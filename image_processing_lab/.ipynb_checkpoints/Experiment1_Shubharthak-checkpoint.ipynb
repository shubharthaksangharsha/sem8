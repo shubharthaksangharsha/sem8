{
 "cells": [
  {
   "cell_type": "markdown",
   "id": "ee3d6d16",
   "metadata": {},
   "source": [
    "# By Shubharthak, 20BCS6872"
   ]
  },
  {
   "cell_type": "markdown",
   "id": "5d07c177",
   "metadata": {},
   "source": [
    "### Experiment1: WAP to Read, Save and display image using the following libaries:- \n",
    "* Matplotlib\n",
    "* Scikit-Image\n",
    "* PIL"
   ]
  },
  {
   "cell_type": "code",
   "execution_count": null,
   "id": "73d8e4a8",
   "metadata": {},
   "outputs": [],
   "source": [
    "#By Shubharthak, 20BCS6872\n",
    "from PIL import Image\n",
    "import matplotlib.pyplot as plt\n",
    "from skimage import io\n",
    "\n",
    "def read_image_pil(file_path):\n",
    "    image = Image.open(file_path)\n",
    "    return image\n",
    "\n",
    "def save_image_pil(image, output_path):\n",
    "    image.save(output_path)\n",
    "\n",
    "def display_image_pil(image):\n",
    "    image.show()\n",
    "\n",
    "def read_image_matplotlib(file_path):\n",
    "    image = plt.imread(file_path)\n",
    "    return image\n",
    "\n",
    "def save_image_matplotlib(image, output_path):\n",
    "    plt.imsave(output_path, image)\n",
    "\n",
    "def display_image_matplotlib(image):\n",
    "    plt.imshow(image)\n",
    "    plt.show()\n",
    "\n",
    "def read_image_scikit(file_path):\n",
    "    image = io.imread(file_path)\n",
    "    return image\n",
    "\n",
    "def save_image_scikit(image, output_path):\n",
    "    io.imsave(output_path, image)\n",
    "\n",
    "def display_image_scikit(image):\n",
    "    io.imshow(image)\n",
    "    io.show()\n",
    "\n",
    "def main():\n",
    "    file_path = \"pic.jpeg\"\n",
    "    output_path_pil = \"output_pil.jpg\"\n",
    "    output_path_matplotlib = \"output_matplotlib.jpg\"\n",
    "    output_path_scikit = \"output_scikit.jpg\"\n",
    "\n",
    "    # Reading and displaying images using PIL\n",
    "    image_pil = read_image_pil(file_path)\n",
    "    display_image_pil(image_pil)\n",
    "\n",
    "    # Saving the PIL image\n",
    "    save_image_pil(image_pil, output_path_pil)\n",
    "\n",
    "    # Reading and displaying images using Matplotlib\n",
    "    image_matplotlib = read_image_matplotlib(file_path)\n",
    "    display_image_matplotlib(image_matplotlib)\n",
    "\n",
    "    # Saving the Matplotlib image\n",
    "    save_image_matplotlib(image_matplotlib, output_path_matplotlib)\n",
    "\n",
    "    # Reading and displaying images using Scikit Image\n",
    "    image_scikit = read_image_scikit(file_path)\n",
    "    display_image_scikit(image_scikit)\n",
    "\n",
    "    # Saving the Scikit Image\n",
    "    save_image_scikit(image_scikit, output_path_scikit)\n",
    "\n",
    "if __name__ == \"__main__\":\n",
    "    main()\n"
   ]
  }
 ],
 "metadata": {
  "kernelspec": {
   "display_name": "Python 3 (ipykernel)",
   "language": "python",
   "name": "python3"
  },
  "language_info": {
   "codemirror_mode": {
    "name": "ipython",
    "version": 3
   },
   "file_extension": ".py",
   "mimetype": "text/x-python",
   "name": "python",
   "nbconvert_exporter": "python",
   "pygments_lexer": "ipython3",
   "version": "3.11.6"
  }
 },
 "nbformat": 4,
 "nbformat_minor": 5
}
