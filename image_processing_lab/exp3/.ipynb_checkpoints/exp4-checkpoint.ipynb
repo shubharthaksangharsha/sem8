{
 "cells": [
  {
   "cell_type": "code",
   "execution_count": 2,
   "id": "6387d7a4",
   "metadata": {},
   "outputs": [],
   "source": [
    "import sys \n",
    "sys.path.append('/home/shubharthak/miniconda3/lib/python3.11/site-packages')"
   ]
  },
  {
   "cell_type": "code",
   "execution_count": 3,
   "id": "c1f1c16e",
   "metadata": {},
   "outputs": [
    {
     "name": "stderr",
     "output_type": "stream",
     "text": [
      "[ WARN:0@0.150] global loadsave.cpp:248 findDecoder imread_('sample3.jpg'): can't open/read file: check file path/integrity\n"
     ]
    },
    {
     "ename": "error",
     "evalue": "OpenCV(4.9.0) /io/opencv/modules/imgproc/src/color.cpp:196: error: (-215:Assertion failed) !_src.empty() in function 'cvtColor'\n",
     "output_type": "error",
     "traceback": [
      "\u001b[0;31m---------------------------------------------------------------------------\u001b[0m",
      "\u001b[0;31merror\u001b[0m                                     Traceback (most recent call last)",
      "Cell \u001b[0;32mIn[3], line 9\u001b[0m\n\u001b[1;32m      6\u001b[0m color_image \u001b[38;5;241m=\u001b[39m cv2\u001b[38;5;241m.\u001b[39mimread(image_path)\n\u001b[1;32m      8\u001b[0m \u001b[38;5;66;03m# Convert the color image to grayscale\u001b[39;00m\n\u001b[0;32m----> 9\u001b[0m gray_image \u001b[38;5;241m=\u001b[39m \u001b[43mcv2\u001b[49m\u001b[38;5;241;43m.\u001b[39;49m\u001b[43mcvtColor\u001b[49m\u001b[43m(\u001b[49m\u001b[43mcolor_image\u001b[49m\u001b[43m,\u001b[49m\u001b[43m \u001b[49m\u001b[43mcv2\u001b[49m\u001b[38;5;241;43m.\u001b[39;49m\u001b[43mCOLOR_BGR2GRAY\u001b[49m\u001b[43m)\u001b[49m\n\u001b[1;32m     11\u001b[0m \u001b[38;5;66;03m# Generate the negative of the grayscale image\u001b[39;00m\n\u001b[1;32m     12\u001b[0m negative_gray_image \u001b[38;5;241m=\u001b[39m \u001b[38;5;241m255\u001b[39m \u001b[38;5;241m-\u001b[39m gray_image\n",
      "\u001b[0;31merror\u001b[0m: OpenCV(4.9.0) /io/opencv/modules/imgproc/src/color.cpp:196: error: (-215:Assertion failed) !_src.empty() in function 'cvtColor'\n"
     ]
    }
   ],
   "source": [
    "import cv2\n",
    "import matplotlib.pyplot as plt\n",
    "\n",
    "# Load the color image\n",
    "image_path = \"../exp4/sample3.jpg\"\n",
    "color_image = cv2.imread(image_path)\n",
    "\n",
    "# Convert the color image to grayscale\n",
    "gray_image = cv2.cvtColor(color_image, cv2.COLOR_BGR2GRAY)\n",
    "\n",
    "# Generate the negative of the grayscale image\n",
    "negative_gray_image = 255 - gray_image\n",
    "\n",
    "# Display all three images using matplotlib\n",
    "plt.figure(figsize=(15, 5))\n",
    "\n",
    "# Display original color image\n",
    "plt.subplot(1, 3, 1)\n",
    "plt.imshow(cv2.cvtColor(color_image, cv2.COLOR_BGR2RGB))\n",
    "plt.title('Original Color Image')\n",
    "plt.axis('off')\n",
    "\n",
    "# Display grayscale image\n",
    "plt.subplot(1, 3, 2)\n",
    "plt.imshow(gray_image, cmap='gray')\n",
    "plt.title('Grayscale Image')\n",
    "plt.axis('off')\n",
    "\n",
    "# Display negative grayscale image\n",
    "plt.subplot(1, 3, 3)\n",
    "plt.imshow(negative_gray_image, cmap='gray')\n",
    "plt.title('Negative Grayscale Image')\n",
    "plt.axis('off')\n",
    "\n",
    "plt.show()\n",
    "\n",
    "# Save the images if needed\n",
    "cv2.imwrite(f'{image_path}_grayscale_image.jpg', gray_image)\n",
    "cv2.imwrite(f'{image_path}_negative_gray_image.jpg', negative_gray_image)"
   ]
  },
  {
   "cell_type": "code",
   "execution_count": null,
   "id": "e5ade1a6",
   "metadata": {},
   "outputs": [],
   "source": []
  }
 ],
 "metadata": {
  "kernelspec": {
   "display_name": "Python 3 (ipykernel)",
   "language": "python",
   "name": "python3"
  },
  "language_info": {
   "codemirror_mode": {
    "name": "ipython",
    "version": 3
   },
   "file_extension": ".py",
   "mimetype": "text/x-python",
   "name": "python",
   "nbconvert_exporter": "python",
   "pygments_lexer": "ipython3",
   "version": "3.11.6"
  }
 },
 "nbformat": 4,
 "nbformat_minor": 5
}
